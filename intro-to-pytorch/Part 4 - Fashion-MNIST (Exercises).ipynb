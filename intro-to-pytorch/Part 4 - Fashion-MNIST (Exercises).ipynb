{
 "cells": [
  {
   "cell_type": "markdown",
   "metadata": {},
   "source": [
    "# Classifying Fashion-MNIST\n",
    "\n",
    "Now it's your turn to build and train a neural network. You'll be using the [Fashion-MNIST dataset](https://github.com/zalandoresearch/fashion-mnist), a drop-in replacement for the MNIST dataset. MNIST is actually quite trivial with neural networks where you can easily achieve better than 97% accuracy. Fashion-MNIST is a set of 28x28 greyscale images of clothes. It's more complex than MNIST, so it's a better representation of the actual performance of your network, and a better representation of datasets you'll use in the real world.\n",
    "\n",
    "<img src='assets/fashion-mnist-sprite.png' width=500px>\n",
    "\n",
    "In this notebook, you'll build your own neural network. For the most part, you could just copy and paste the code from Part 3, but you wouldn't be learning. It's important for you to write the code yourself and get it to work. Feel free to consult the previous notebooks though as you work through this.\n",
    "\n",
    "First off, let's load the dataset through torchvision."
   ]
  },
  {
   "cell_type": "code",
   "execution_count": 1,
   "metadata": {},
   "outputs": [
    {
     "name": "stderr",
     "output_type": "stream",
     "text": [
      "\r",
      "0it [00:00, ?it/s]"
     ]
    },
    {
     "name": "stdout",
     "output_type": "stream",
     "text": [
      "Downloading http://fashion-mnist.s3-website.eu-central-1.amazonaws.com/train-images-idx3-ubyte.gz to /Users/iTurbo/.pytorch/F_MNIST_data/FashionMNIST/raw/train-images-idx3-ubyte.gz\n"
     ]
    },
    {
     "name": "stderr",
     "output_type": "stream",
     "text": [
      "100%|█████████▉| 26386432/26421880 [01:22<00:00, 303634.25it/s]"
     ]
    },
    {
     "name": "stdout",
     "output_type": "stream",
     "text": [
      "Extracting /Users/iTurbo/.pytorch/F_MNIST_data/FashionMNIST/raw/train-images-idx3-ubyte.gz\n"
     ]
    },
    {
     "name": "stderr",
     "output_type": "stream",
     "text": [
      "\n",
      "0it [00:00, ?it/s]\u001b[A"
     ]
    },
    {
     "name": "stdout",
     "output_type": "stream",
     "text": [
      "Downloading http://fashion-mnist.s3-website.eu-central-1.amazonaws.com/train-labels-idx1-ubyte.gz to /Users/iTurbo/.pytorch/F_MNIST_data/FashionMNIST/raw/train-labels-idx1-ubyte.gz\n"
     ]
    },
    {
     "name": "stderr",
     "output_type": "stream",
     "text": [
      "\n",
      "  0%|          | 0/29515 [00:00<?, ?it/s]\u001b[A\n",
      " 56%|█████▌    | 16384/29515 [00:00<00:00, 148839.78it/s]\u001b[A\n",
      "32768it [00:00, 74528.12it/s]                            \u001b[A\n",
      "0it [00:00, ?it/s]\u001b[A"
     ]
    },
    {
     "name": "stdout",
     "output_type": "stream",
     "text": [
      "Extracting /Users/iTurbo/.pytorch/F_MNIST_data/FashionMNIST/raw/train-labels-idx1-ubyte.gz\n",
      "Downloading http://fashion-mnist.s3-website.eu-central-1.amazonaws.com/t10k-images-idx3-ubyte.gz to /Users/iTurbo/.pytorch/F_MNIST_data/FashionMNIST/raw/t10k-images-idx3-ubyte.gz\n"
     ]
    },
    {
     "name": "stderr",
     "output_type": "stream",
     "text": [
      "\n",
      "  0%|          | 0/4422102 [00:00<?, ?it/s]\u001b[A\n",
      "  1%|          | 24576/4422102 [00:00<00:19, 223475.55it/s]\u001b[A\n",
      "  2%|▏         | 73728/4422102 [00:00<00:16, 263239.22it/s]\u001b[A\n",
      "  4%|▎         | 163840/4422102 [00:00<00:12, 330624.42it/s]\u001b[A\n",
      "  8%|▊         | 344064/4422102 [00:00<00:09, 436818.29it/s]\u001b[A\n",
      " 10%|█         | 450560/4422102 [00:00<00:07, 529581.08it/s]\u001b[A\n",
      " 15%|█▌        | 663552/4422102 [00:00<00:05, 681473.95it/s]\u001b[A\n",
      " 18%|█▊        | 786432/4422102 [00:01<00:08, 415801.29it/s]\u001b[A\n",
      " 20%|██        | 884736/4422102 [00:01<00:08, 394066.81it/s]\u001b[A\n",
      " 23%|██▎       | 999424/4422102 [00:01<00:07, 485772.97it/s]\u001b[A\n",
      " 25%|██▍       | 1089536/4422102 [00:02<00:08, 411261.98it/s]\u001b[A\n",
      " 26%|██▋       | 1163264/4422102 [00:02<00:08, 380911.79it/s]\u001b[A\n",
      " 28%|██▊       | 1228800/4422102 [00:02<00:07, 401888.63it/s]\u001b[A\n",
      " 29%|██▉       | 1286144/4422102 [00:02<00:11, 279229.71it/s]\u001b[A\n",
      " 30%|███       | 1335296/4422102 [00:02<00:10, 304555.61it/s]\u001b[A\n",
      " 31%|███▏      | 1384448/4422102 [00:03<00:09, 335261.01it/s]\u001b[A\n",
      " 32%|███▏      | 1433600/4422102 [00:03<00:10, 292959.18it/s]\u001b[A\n",
      " 33%|███▎      | 1474560/4422102 [00:03<00:09, 320100.86it/s]\u001b[A\n",
      " 34%|███▍      | 1515520/4422102 [00:03<00:12, 238841.76it/s]\u001b[A\n",
      " 37%|███▋      | 1630208/4422102 [00:03<00:09, 284969.83it/s]\u001b[A\n",
      " 38%|███▊      | 1679360/4422102 [00:03<00:08, 325385.02it/s]\u001b[A\n",
      " 39%|███▉      | 1720320/4422102 [00:04<00:11, 226207.38it/s]\u001b[A\n",
      " 41%|████      | 1818624/4422102 [00:04<00:09, 273716.85it/s]\u001b[A\n",
      " 42%|████▏     | 1859584/4422102 [00:04<00:10, 236508.67it/s]\u001b[A\n",
      " 43%|████▎     | 1892352/4422102 [00:04<00:09, 254994.11it/s]\u001b[A\n",
      " 45%|████▍     | 1974272/4422102 [00:04<00:07, 319988.15it/s]\u001b[A\n",
      " 46%|████▌     | 2023424/4422102 [00:05<00:08, 266774.24it/s]\u001b[A\n",
      " 47%|████▋     | 2072576/4422102 [00:05<00:07, 306802.98it/s]\u001b[A\n",
      " 48%|████▊     | 2121728/4422102 [00:05<00:08, 278682.50it/s]\u001b[A\n",
      " 49%|████▉     | 2187264/4422102 [00:05<00:06, 332606.43it/s]\u001b[A\n",
      " 51%|█████     | 2236416/4422102 [00:05<00:06, 322435.93it/s]\u001b[A\n",
      " 51%|█████▏    | 2277376/4422102 [00:05<00:06, 326743.07it/s]\u001b[A\n",
      " 52%|█████▏    | 2318336/4422102 [00:06<00:06, 308144.62it/s]\u001b[A\n",
      " 53%|█████▎    | 2359296/4422102 [00:06<00:07, 276011.05it/s]\u001b[A\n",
      " 54%|█████▍    | 2400256/4422102 [00:06<00:07, 275362.46it/s]\u001b[A\n",
      " 55%|█████▌    | 2433024/4422102 [00:06<00:07, 276233.99it/s]\u001b[A\n",
      " 56%|█████▌    | 2465792/4422102 [00:06<00:06, 283176.52it/s]\u001b[A\n",
      " 57%|█████▋    | 2498560/4422102 [00:06<00:06, 280029.27it/s]\u001b[A\n",
      " 57%|█████▋    | 2531328/4422102 [00:06<00:06, 278788.21it/s]\u001b[A\n",
      " 58%|█████▊    | 2564096/4422102 [00:06<00:06, 289110.97it/s]\u001b[A\n",
      " 59%|█████▉    | 2605056/4422102 [00:07<00:06, 295336.41it/s]\u001b[A\n",
      " 60%|█████▉    | 2646016/4422102 [00:07<00:05, 306356.96it/s]\u001b[A\n",
      " 61%|██████    | 2678784/4422102 [00:07<00:05, 307544.97it/s]\u001b[A\n",
      " 61%|██████▏   | 2711552/4422102 [00:07<00:05, 307326.20it/s]\u001b[A\n",
      " 62%|██████▏   | 2752512/4422102 [00:07<00:05, 325353.99it/s]\u001b[A\n",
      " 63%|██████▎   | 2793472/4422102 [00:07<00:04, 346674.01it/s]\u001b[A\n",
      " 64%|██████▍   | 2834432/4422102 [00:07<00:04, 347912.78it/s]\u001b[A\n",
      " 65%|██████▌   | 2875392/4422102 [00:07<00:04, 362704.89it/s]\u001b[A\n",
      " 66%|██████▌   | 2916352/4422102 [00:07<00:04, 356200.40it/s]\u001b[A\n",
      " 67%|██████▋   | 2965504/4422102 [00:08<00:03, 369470.98it/s]\u001b[A\n",
      " 68%|██████▊   | 3006464/4422102 [00:08<00:04, 304058.61it/s]\u001b[A\n",
      " 69%|██████▉   | 3055616/4422102 [00:08<00:03, 343161.00it/s]\u001b[A\n",
      " 70%|███████   | 3096576/4422102 [00:08<00:04, 322979.97it/s]\u001b[A\n",
      " 71%|███████   | 3137536/4422102 [00:08<00:03, 328233.47it/s]\u001b[A\n",
      " 72%|███████▏  | 3178496/4422102 [00:08<00:03, 332613.13it/s]\u001b[A\n",
      " 73%|███████▎  | 3219456/4422102 [00:08<00:03, 315873.40it/s]\u001b[A\n",
      " 74%|███████▎  | 3260416/4422102 [00:09<00:03, 336641.93it/s]\u001b[A\n",
      " 75%|███████▍  | 3301376/4422102 [00:09<00:03, 343211.51it/s]\u001b[A\n",
      " 76%|███████▌  | 3342336/4422102 [00:09<00:03, 284316.01it/s]\u001b[A\n",
      " 77%|███████▋  | 3391488/4422102 [00:09<00:03, 309040.44it/s]\u001b[A\n",
      " 78%|███████▊  | 3432448/4422102 [00:09<00:03, 306301.31it/s]\u001b[A\n",
      " 78%|███████▊  | 3465216/4422102 [00:09<00:03, 302026.42it/s]\u001b[A\n",
      " 79%|███████▉  | 3497984/4422102 [00:09<00:03, 305819.81it/s]\u001b[A\n",
      " 80%|███████▉  | 3530752/4422102 [00:09<00:03, 295967.69it/s]\u001b[A\n",
      " 81%|████████  | 3563520/4422102 [00:10<00:02, 294427.65it/s]\u001b[A\n",
      " 81%|████████▏ | 3596288/4422102 [00:10<00:02, 299420.31it/s]\u001b[A\n",
      " 82%|████████▏ | 3637248/4422102 [00:10<00:02, 310929.57it/s]\u001b[A\n",
      " 83%|████████▎ | 3678208/4422102 [00:10<00:02, 318779.30it/s]\u001b[A\n",
      " 84%|████████▍ | 3710976/4422102 [00:10<00:02, 305183.97it/s]\u001b[A\n",
      " 85%|████████▍ | 3751936/4422102 [00:10<00:02, 324729.68it/s]\u001b[A\n",
      " 86%|████████▌ | 3792896/4422102 [00:10<00:01, 344729.28it/s]\u001b[A\n",
      " 87%|████████▋ | 3833856/4422102 [00:10<00:01, 352390.88it/s]\u001b[A\n",
      " 88%|████████▊ | 3874816/4422102 [00:11<00:01, 292769.46it/s]\u001b[A\n",
      " 89%|████████▉ | 3932160/4422102 [00:11<00:01, 325614.90it/s]\u001b[A\n",
      " 90%|████████▉ | 3973120/4422102 [00:11<00:01, 305755.12it/s]\u001b[A\n",
      " 91%|█████████ | 4005888/4422102 [00:11<00:01, 308535.74it/s]\u001b[A\n",
      " 91%|█████████▏| 4038656/4422102 [00:11<00:01, 293863.19it/s]\u001b[A\n",
      " 92%|█████████▏| 4079616/4422102 [00:11<00:01, 318056.59it/s]\u001b[A\n",
      " 93%|█████████▎| 4120576/4422102 [00:11<00:00, 317882.04it/s]\u001b[A\n",
      " 94%|█████████▍| 4153344/4422102 [00:11<00:00, 319292.71it/s]\u001b[A\n",
      " 95%|█████████▍| 4194304/4422102 [00:11<00:00, 329928.43it/s]\u001b[A\n",
      " 96%|█████████▌| 4235264/4422102 [00:12<00:00, 330096.74it/s]\u001b[A\n",
      " 97%|█████████▋| 4276224/4422102 [00:12<00:00, 342438.46it/s]\u001b[A\n",
      " 98%|█████████▊| 4317184/4422102 [00:12<00:00, 277767.98it/s]\u001b[A\n",
      " 99%|█████████▊| 4366336/4422102 [00:12<00:00, 288799.80it/s]\u001b[A\n",
      " 99%|█████████▉| 4399104/4422102 [00:12<00:00, 296274.44it/s]\u001b[A\n",
      "\n",
      "0it [00:00, ?it/s]\u001b[A\u001b[A"
     ]
    },
    {
     "name": "stdout",
     "output_type": "stream",
     "text": [
      "Extracting /Users/iTurbo/.pytorch/F_MNIST_data/FashionMNIST/raw/t10k-images-idx3-ubyte.gz\n",
      "Downloading http://fashion-mnist.s3-website.eu-central-1.amazonaws.com/t10k-labels-idx1-ubyte.gz to /Users/iTurbo/.pytorch/F_MNIST_data/FashionMNIST/raw/t10k-labels-idx1-ubyte.gz\n"
     ]
    },
    {
     "name": "stderr",
     "output_type": "stream",
     "text": [
      "\n",
      "\n",
      "  0%|          | 0/5148 [00:00<?, ?it/s]\u001b[A\u001b[A\n",
      "\n",
      "8192it [00:00, 36527.23it/s]            \u001b[A\u001b[A"
     ]
    },
    {
     "name": "stdout",
     "output_type": "stream",
     "text": [
      "Extracting /Users/iTurbo/.pytorch/F_MNIST_data/FashionMNIST/raw/t10k-labels-idx1-ubyte.gz\n",
      "Processing...\n",
      "Done!\n"
     ]
    },
    {
     "name": "stderr",
     "output_type": "stream",
     "text": [
      "26427392it [01:40, 303634.25it/s]                              \n",
      "4423680it [00:26, 296274.44it/s]                             \u001b[A"
     ]
    }
   ],
   "source": [
    "import torch\n",
    "from torchvision import datasets, transforms\n",
    "import helper\n",
    "\n",
    "# Define a transform to normalize the data\n",
    "transform = transforms.Compose([transforms.ToTensor(),\n",
    "                                transforms.Normalize((0.5,), (0.5,))])\n",
    "# Download and load the training data\n",
    "trainset = datasets.FashionMNIST('~/.pytorch/F_MNIST_data/', download=True, train=True, transform=transform)\n",
    "trainloader = torch.utils.data.DataLoader(trainset, batch_size=64, shuffle=True)\n",
    "\n",
    "# Download and load the test data\n",
    "testset = datasets.FashionMNIST('~/.pytorch/F_MNIST_data/', download=True, train=False, transform=transform)\n",
    "testloader = torch.utils.data.DataLoader(testset, batch_size=64, shuffle=True)"
   ]
  },
  {
   "cell_type": "markdown",
   "metadata": {},
   "source": [
    "Here we can see one of the images."
   ]
  },
  {
   "cell_type": "code",
   "execution_count": null,
   "metadata": {},
   "outputs": [],
   "source": [
    "image, label = next(iter(trainloader))\n",
    "helper.imshow(image[0,:]);"
   ]
  },
  {
   "cell_type": "markdown",
   "metadata": {},
   "source": [
    "## Building the network\n",
    "\n",
    "Here you should define your network. As with MNIST, each image is 28x28 which is a total of 784 pixels, and there are 10 classes. You should include at least one hidden layer. We suggest you use ReLU activations for the layers and to return the logits or log-softmax from the forward pass. It's up to you how many layers you add and the size of those layers."
   ]
  },
  {
   "cell_type": "code",
   "execution_count": null,
   "metadata": {},
   "outputs": [],
   "source": [
    "# TODO: Define your network architecture here\n"
   ]
  },
  {
   "cell_type": "markdown",
   "metadata": {},
   "source": [
    "# Train the network\n",
    "\n",
    "Now you should create your network and train it. First you'll want to define [the criterion](http://pytorch.org/docs/master/nn.html#loss-functions) ( something like `nn.CrossEntropyLoss`) and [the optimizer](http://pytorch.org/docs/master/optim.html) (typically `optim.SGD` or `optim.Adam`).\n",
    "\n",
    "Then write the training code. Remember the training pass is a fairly straightforward process:\n",
    "\n",
    "* Make a forward pass through the network to get the logits \n",
    "* Use the logits to calculate the loss\n",
    "* Perform a backward pass through the network with `loss.backward()` to calculate the gradients\n",
    "* Take a step with the optimizer to update the weights\n",
    "\n",
    "By adjusting the hyperparameters (hidden units, learning rate, etc), you should be able to get the training loss below 0.4."
   ]
  },
  {
   "cell_type": "code",
   "execution_count": null,
   "metadata": {},
   "outputs": [],
   "source": [
    "# TODO: Create the network, define the criterion and optimizer\n"
   ]
  },
  {
   "cell_type": "code",
   "execution_count": null,
   "metadata": {},
   "outputs": [],
   "source": [
    "# TODO: Train the network here\n"
   ]
  },
  {
   "cell_type": "code",
   "execution_count": null,
   "metadata": {},
   "outputs": [],
   "source": [
    "%matplotlib inline\n",
    "%config InlineBackend.figure_format = 'retina'\n",
    "\n",
    "import helper\n",
    "\n",
    "# Test out your network!\n",
    "\n",
    "dataiter = iter(testloader)\n",
    "images, labels = dataiter.next()\n",
    "img = images[0]\n",
    "# Convert 2D image to 1D vector\n",
    "img = img.resize_(1, 784)\n",
    "\n",
    "# TODO: Calculate the class probabilities (softmax) for img\n",
    "ps = \n",
    "\n",
    "# Plot the image and probabilities\n",
    "helper.view_classify(img.resize_(1, 28, 28), ps, version='Fashion')"
   ]
  }
 ],
 "metadata": {
  "kernelspec": {
   "display_name": "Python 3",
   "language": "python",
   "name": "python3"
  },
  "language_info": {
   "codemirror_mode": {
    "name": "ipython",
    "version": 3
   },
   "file_extension": ".py",
   "mimetype": "text/x-python",
   "name": "python",
   "nbconvert_exporter": "python",
   "pygments_lexer": "ipython3",
   "version": "3.7.3"
  }
 },
 "nbformat": 4,
 "nbformat_minor": 2
}
